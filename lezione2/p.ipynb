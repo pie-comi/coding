{
 "cells": [
  {
   "cell_type": "code",
   "execution_count": 21,
   "metadata": {},
   "outputs": [],
   "source": [
    "import random\n",
    "\n",
    "class Point:\n",
    "        def __init__(self, x, y):\n",
    "            self.x = x\n",
    "            self.y = y\n",
    "\n",
    "        def distance(self, other):\n",
    "            return((self.x-other.x)**2 + (self.y-other.y)**2)**0.5\n",
    "\n",
    "        def distance_from_origin(self):\n",
    "            origin = Point(0,0)\n",
    "            return self.distance(origin)\n",
    "\n",
    "        def is_inside_unit_circle(self):\n",
    "            if self.distance_from_origin() <= 1:\n",
    "                return True\n",
    "            return False\n",
    "            \n"
   ]
  },
  {
   "cell_type": "code",
   "execution_count": 62,
   "metadata": {},
   "outputs": [
    {
     "name": "stdout",
     "output_type": "stream",
     "text": [
      "pi greco:  3.1418156\n",
      "errore percentuale:  0.007096604645808655 %\n"
     ]
    }
   ],
   "source": [
    "points_inside = 0\n",
    "points_tot = 10000000\n",
    "\n",
    "for i in range(0, points_tot):\n",
    "    x = random.uniform(-1, 1)\n",
    "    y = random.uniform(-1, 1)\n",
    "    point = Point(x, y)\n",
    "    is_inside = point.is_inside_unit_circle()\n",
    "    if is_inside:\n",
    "        points_inside = points_inside + 1\n",
    "\n",
    "import math\n",
    "\n",
    "pi = (points_inside/points_tot) * 4\n",
    "error = abs(pi - math.pi)\n",
    "error_percentage = error / math.pi * 100\n",
    "\n",
    "print(\"pi greco: \", pi)\n",
    "print(\"errore percentuale: \", error_percentage, \"%\")"
   ]
  }
 ],
 "metadata": {
  "kernelspec": {
   "display_name": "Python 3",
   "language": "python",
   "name": "python3"
  },
  "language_info": {
   "codemirror_mode": {
    "name": "ipython",
    "version": 3
   },
   "file_extension": ".py",
   "mimetype": "text/x-python",
   "name": "python",
   "nbconvert_exporter": "python",
   "pygments_lexer": "ipython3",
   "version": "3.12.1"
  }
 },
 "nbformat": 4,
 "nbformat_minor": 2
}
