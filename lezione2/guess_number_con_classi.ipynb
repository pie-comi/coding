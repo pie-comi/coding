{
 "cells": [
  {
   "cell_type": "markdown",
   "metadata": {},
   "source": [
    "bella, non funziona"
   ]
  },
  {
   "cell_type": "code",
   "execution_count": 11,
   "metadata": {},
   "outputs": [
    {
     "ename": "NameError",
     "evalue": "name 'n' is not defined",
     "output_type": "error",
     "traceback": [
      "\u001b[0;31m---------------------------------------------------------------------------\u001b[0m",
      "\u001b[0;31mNameError\u001b[0m                                 Traceback (most recent call last)",
      "Cell \u001b[0;32mIn[11], line 21\u001b[0m\n\u001b[1;32m     18\u001b[0m             number \u001b[38;5;241m=\u001b[39m \u001b[38;5;28mint\u001b[39m(\u001b[38;5;28minput\u001b[39m(\u001b[38;5;124m\"\u001b[39m\u001b[38;5;124mIndovina il numero: \u001b[39m\u001b[38;5;124m\"\u001b[39m))\n\u001b[1;32m     19\u001b[0m             \u001b[38;5;28mself\u001b[39m\u001b[38;5;241m.\u001b[39mguess(number)\n\u001b[0;32m---> 21\u001b[0m game \u001b[38;5;241m=\u001b[39m GuessTheNumber(\u001b[43mn\u001b[49m, number)\n\u001b[1;32m     22\u001b[0m game\u001b[38;5;241m.\u001b[39mplay()\n",
      "\u001b[0;31mNameError\u001b[0m: name 'n' is not defined"
     ]
    }
   ],
   "source": [
    "import random\n",
    "\n",
    "class GuessTheNumber:\n",
    "    def __init__(self, win, n, number):\n",
    "        self.n = random.randint(1, 100)\n",
    "        self.win = False\n",
    "\n",
    "    def guess(self, number):\n",
    "        if number == self.n:\n",
    "            self.win = True\n",
    "        elif number > self.n:\n",
    "            print(\"Troppo grande!\")\n",
    "        else:\n",
    "            print(\"Troppo piccolo!\")\n",
    "    \n",
    "    def play(self):\n",
    "        while not self.win:\n",
    "            number = int(input(\"Indovina il numero: \"))\n",
    "            self.guess(number)\n",
    "\n",
    "game = GuessTheNumber(n, number)\n",
    "game.play()"
   ]
  }
 ],
 "metadata": {
  "kernelspec": {
   "display_name": "Python 3",
   "language": "python",
   "name": "python3"
  },
  "language_info": {
   "codemirror_mode": {
    "name": "ipython",
    "version": 3
   },
   "file_extension": ".py",
   "mimetype": "text/x-python",
   "name": "python",
   "nbconvert_exporter": "python",
   "pygments_lexer": "ipython3",
   "version": "3.12.1"
  }
 },
 "nbformat": 4,
 "nbformat_minor": 2
}
