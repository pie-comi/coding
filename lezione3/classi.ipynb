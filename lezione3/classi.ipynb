{
 "cells": [
  {
   "cell_type": "code",
   "execution_count": null,
   "metadata": {
    "vscode": {
     "languageId": "plaintext"
    }
   },
   "outputs": [],
   "source": [
    "class Rectangle:\n",
    "    def __init__(self, b, h):\n",
    "        self.b = b\n",
    "        self.h = h\n",
    "\n",
    "    def area(self):\n",
    "        return self.b * self.h\n",
    "\n",
    "    def perimeter(self):\n",
    "        return 2 * (self.b + self.h)\n",
    "\n",
    "    def is_equivalent(self):\n",
    "        \n",
    "\n",
    "rect = Rectangle(5, 10)\n",
    "print(f\"Rectangle area: {rect.area()}\")\n"
   ]
  }
 ],
 "metadata": {
  "language_info": {
   "name": "python"
  }
 },
 "nbformat": 4,
 "nbformat_minor": 2
}
